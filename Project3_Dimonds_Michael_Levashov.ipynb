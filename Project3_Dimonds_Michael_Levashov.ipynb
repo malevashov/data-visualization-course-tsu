{
  "cells": [
    {
      "cell_type": "markdown",
      "metadata": {
        "id": "view-in-github",
        "colab_type": "text"
      },
      "source": [
        "<a href=\"https://colab.research.google.com/github/malevashov/data-visualization-course-tsu/blob/main/Project3_Dimonds_Michael_Levashov.ipynb\" target=\"_parent\"><img src=\"https://colab.research.google.com/assets/colab-badge.svg\" alt=\"Open In Colab\"/></a>"
      ]
    },
    {
      "cell_type": "markdown",
      "metadata": {
        "id": "Ws6PDCKFbvAj"
      },
      "source": [
        "## PROJECT 3 - PCA Analysis of Diamonds DataSet"
      ]
    },
    {
      "cell_type": "markdown",
      "metadata": {
        "id": "D-thvXSTbvAk"
      },
      "source": [
        "In this project, you will use the diamonds dataset and answer the questions.\n",
        "This classic dataset contains the prices and other attributes of almost 54,000 diamonds. It's a great dataset for beginners learning to work with data analysis and visualization.\n",
        "\n",
        "Content\n",
        "price--> price in US dollars (range is between \\\\$326 and \\\\$18,823)\n",
        "\n",
        "carat--> weight of the diamond (range is between 0.2 and 5.01)\n",
        "\n",
        "cut--> quality of the cut (Fair, Good, Very Good, Premium, Ideal)\n",
        "\n",
        "color--> diamond colour, from J (worst) to D (best)\n",
        "\n",
        "clarity--> a measurement of how clear the diamond is (I1 (worst), SI2, SI1, VS2, VS1, VVS2, VVS1, IF (best))\n",
        "\n",
        "x--> length in mm (range is between 0 and 10.74)\n",
        "\n",
        "y--> width in mm (range is between 0 and 58.9)\n",
        "\n",
        "z--> depth in mm (range is between 0 and 31.8)\n",
        "\n",
        "depth--> total depth percentage = z / mean(x, y) = 2 * z / (x + y) (range is between 43 and 79)\n",
        "\n",
        "table--> width of top of diamond relative to widest point (range is between 43-95)"
      ]
    },
    {
      "cell_type": "markdown",
      "metadata": {
        "id": "BrKS3vSlbvAl"
      },
      "source": [
        "You can see and use pandas dataframe applications on this set from this website: https://www.w3resource.com/python-exercises/pandas/practice-set1/index.php"
      ]
    },
    {
      "cell_type": "code",
      "execution_count": null,
      "metadata": {
        "id": "swG02RtwbvAl"
      },
      "outputs": [],
      "source": [
        "#include all the modules here\n",
        "import matplotlib.pyplot as plt\n",
        "import pandas as pd\n",
        "import seaborn as sns\n",
        "import numpy as np\n",
        "import math"
      ]
    },
    {
      "cell_type": "code",
      "execution_count": null,
      "metadata": {
        "id": "5zPsCrP4bvAl",
        "outputId": "34a083b9-86f5-4ef1-e1c1-c18d17f80383"
      },
      "outputs": [
        {
          "name": "stdout",
          "output_type": "stream",
          "text": [
            "(53940, 10)\n"
          ]
        },
        {
          "data": {
            "text/html": [
              "<div>\n",
              "<style scoped>\n",
              "    .dataframe tbody tr th:only-of-type {\n",
              "        vertical-align: middle;\n",
              "    }\n",
              "\n",
              "    .dataframe tbody tr th {\n",
              "        vertical-align: top;\n",
              "    }\n",
              "\n",
              "    .dataframe thead th {\n",
              "        text-align: right;\n",
              "    }\n",
              "</style>\n",
              "<table border=\"1\" class=\"dataframe\">\n",
              "  <thead>\n",
              "    <tr style=\"text-align: right;\">\n",
              "      <th></th>\n",
              "      <th>carat</th>\n",
              "      <th>cut</th>\n",
              "      <th>color</th>\n",
              "      <th>clarity</th>\n",
              "      <th>depth</th>\n",
              "      <th>table</th>\n",
              "      <th>price</th>\n",
              "      <th>x</th>\n",
              "      <th>y</th>\n",
              "      <th>z</th>\n",
              "    </tr>\n",
              "  </thead>\n",
              "  <tbody>\n",
              "    <tr>\n",
              "      <th>0</th>\n",
              "      <td>0.23</td>\n",
              "      <td>Ideal</td>\n",
              "      <td>E</td>\n",
              "      <td>SI2</td>\n",
              "      <td>61.5</td>\n",
              "      <td>55.0</td>\n",
              "      <td>326</td>\n",
              "      <td>3.95</td>\n",
              "      <td>3.98</td>\n",
              "      <td>2.43</td>\n",
              "    </tr>\n",
              "    <tr>\n",
              "      <th>1</th>\n",
              "      <td>0.21</td>\n",
              "      <td>Premium</td>\n",
              "      <td>E</td>\n",
              "      <td>SI1</td>\n",
              "      <td>59.8</td>\n",
              "      <td>61.0</td>\n",
              "      <td>326</td>\n",
              "      <td>3.89</td>\n",
              "      <td>3.84</td>\n",
              "      <td>2.31</td>\n",
              "    </tr>\n",
              "    <tr>\n",
              "      <th>2</th>\n",
              "      <td>0.23</td>\n",
              "      <td>Good</td>\n",
              "      <td>E</td>\n",
              "      <td>VS1</td>\n",
              "      <td>56.9</td>\n",
              "      <td>65.0</td>\n",
              "      <td>327</td>\n",
              "      <td>4.05</td>\n",
              "      <td>4.07</td>\n",
              "      <td>2.31</td>\n",
              "    </tr>\n",
              "    <tr>\n",
              "      <th>3</th>\n",
              "      <td>0.29</td>\n",
              "      <td>Premium</td>\n",
              "      <td>I</td>\n",
              "      <td>VS2</td>\n",
              "      <td>62.4</td>\n",
              "      <td>58.0</td>\n",
              "      <td>334</td>\n",
              "      <td>4.20</td>\n",
              "      <td>4.23</td>\n",
              "      <td>2.63</td>\n",
              "    </tr>\n",
              "    <tr>\n",
              "      <th>4</th>\n",
              "      <td>0.31</td>\n",
              "      <td>Good</td>\n",
              "      <td>J</td>\n",
              "      <td>SI2</td>\n",
              "      <td>63.3</td>\n",
              "      <td>58.0</td>\n",
              "      <td>335</td>\n",
              "      <td>4.34</td>\n",
              "      <td>4.35</td>\n",
              "      <td>2.75</td>\n",
              "    </tr>\n",
              "  </tbody>\n",
              "</table>\n",
              "</div>"
            ],
            "text/plain": [
              "   carat      cut color clarity  depth  table  price     x     y     z\n",
              "0   0.23    Ideal     E     SI2   61.5   55.0    326  3.95  3.98  2.43\n",
              "1   0.21  Premium     E     SI1   59.8   61.0    326  3.89  3.84  2.31\n",
              "2   0.23     Good     E     VS1   56.9   65.0    327  4.05  4.07  2.31\n",
              "3   0.29  Premium     I     VS2   62.4   58.0    334  4.20  4.23  2.63\n",
              "4   0.31     Good     J     SI2   63.3   58.0    335  4.34  4.35  2.75"
            ]
          },
          "execution_count": 392,
          "metadata": {},
          "output_type": "execute_result"
        }
      ],
      "source": [
        "# load in the dataset into a pandas dataframe and show the size of the file and show the first 5 rows of the data\n",
        "\n",
        "df = pd.read_csv('diamonds.csv')\n",
        "print(df.shape)\n",
        "df.head(5)"
      ]
    },
    {
      "cell_type": "code",
      "execution_count": null,
      "metadata": {
        "id": "xuMp1Ja1bvAm",
        "outputId": "26498f4b-df17-4d49-9815-4821497f3d4a"
      },
      "outputs": [
        {
          "name": "stdout",
          "output_type": "stream",
          "text": [
            "(53940, 7)\n"
          ]
        },
        {
          "data": {
            "text/html": [
              "<div>\n",
              "<style scoped>\n",
              "    .dataframe tbody tr th:only-of-type {\n",
              "        vertical-align: middle;\n",
              "    }\n",
              "\n",
              "    .dataframe tbody tr th {\n",
              "        vertical-align: top;\n",
              "    }\n",
              "\n",
              "    .dataframe thead th {\n",
              "        text-align: right;\n",
              "    }\n",
              "</style>\n",
              "<table border=\"1\" class=\"dataframe\">\n",
              "  <thead>\n",
              "    <tr style=\"text-align: right;\">\n",
              "      <th></th>\n",
              "      <th>carat</th>\n",
              "      <th>depth</th>\n",
              "      <th>table</th>\n",
              "      <th>price</th>\n",
              "      <th>x</th>\n",
              "      <th>y</th>\n",
              "      <th>z</th>\n",
              "    </tr>\n",
              "  </thead>\n",
              "  <tbody>\n",
              "    <tr>\n",
              "      <th>0</th>\n",
              "      <td>0.23</td>\n",
              "      <td>61.5</td>\n",
              "      <td>55.0</td>\n",
              "      <td>326</td>\n",
              "      <td>3.95</td>\n",
              "      <td>3.98</td>\n",
              "      <td>2.43</td>\n",
              "    </tr>\n",
              "    <tr>\n",
              "      <th>1</th>\n",
              "      <td>0.21</td>\n",
              "      <td>59.8</td>\n",
              "      <td>61.0</td>\n",
              "      <td>326</td>\n",
              "      <td>3.89</td>\n",
              "      <td>3.84</td>\n",
              "      <td>2.31</td>\n",
              "    </tr>\n",
              "    <tr>\n",
              "      <th>2</th>\n",
              "      <td>0.23</td>\n",
              "      <td>56.9</td>\n",
              "      <td>65.0</td>\n",
              "      <td>327</td>\n",
              "      <td>4.05</td>\n",
              "      <td>4.07</td>\n",
              "      <td>2.31</td>\n",
              "    </tr>\n",
              "    <tr>\n",
              "      <th>3</th>\n",
              "      <td>0.29</td>\n",
              "      <td>62.4</td>\n",
              "      <td>58.0</td>\n",
              "      <td>334</td>\n",
              "      <td>4.20</td>\n",
              "      <td>4.23</td>\n",
              "      <td>2.63</td>\n",
              "    </tr>\n",
              "    <tr>\n",
              "      <th>4</th>\n",
              "      <td>0.31</td>\n",
              "      <td>63.3</td>\n",
              "      <td>58.0</td>\n",
              "      <td>335</td>\n",
              "      <td>4.34</td>\n",
              "      <td>4.35</td>\n",
              "      <td>2.75</td>\n",
              "    </tr>\n",
              "  </tbody>\n",
              "</table>\n",
              "</div>"
            ],
            "text/plain": [
              "   carat  depth  table  price     x     y     z\n",
              "0   0.23   61.5   55.0    326  3.95  3.98  2.43\n",
              "1   0.21   59.8   61.0    326  3.89  3.84  2.31\n",
              "2   0.23   56.9   65.0    327  4.05  4.07  2.31\n",
              "3   0.29   62.4   58.0    334  4.20  4.23  2.63\n",
              "4   0.31   63.3   58.0    335  4.34  4.35  2.75"
            ]
          },
          "execution_count": 393,
          "metadata": {},
          "output_type": "execute_result"
        }
      ],
      "source": [
        "# Take only the columns with numeric data and put into a dataframe\n",
        "\n",
        "df_numeric_values = df.drop(columns = ['cut', 'clarity', 'color'])\n",
        "print(df_numeric_values.shape)\n",
        "df_numeric_values.head()"
      ]
    },
    {
      "cell_type": "code",
      "execution_count": null,
      "metadata": {
        "id": "VlSQO7bzbvAm",
        "outputId": "a664e9be-3cb9-4ec8-bbe3-84d58d0e7fad"
      },
      "outputs": [
        {
          "name": "stdout",
          "output_type": "stream",
          "text": [
            "(20, 7)\n",
            "       carat  depth  table  price     x     y    z\n",
            "2207    1.00   59.1   59.0   3142  6.55  6.48  0.0\n",
            "2314    1.01   58.1   59.0   3167  6.66  6.60  0.0\n",
            "4791    1.10   63.0   59.0   3696  6.50  6.47  0.0\n",
            "5471    1.01   59.2   58.0   3837  6.50  6.47  0.0\n",
            "10167   1.50   64.0   61.0   4731  7.15  7.04  0.0\n",
            "11182   1.07   61.6   56.0   4954  0.00  6.62  0.0\n",
            "11963   1.00   63.3   53.0   5139  0.00  0.00  0.0\n",
            "13601   1.15   59.2   56.0   5564  6.88  6.83  0.0\n",
            "15951   1.14   57.5   67.0   6381  0.00  0.00  0.0\n",
            "24394   2.18   59.4   61.0  12631  8.49  8.45  0.0\n",
            "24520   1.56   62.2   54.0  12800  0.00  0.00  0.0\n",
            "26123   2.25   61.3   58.0  15397  8.52  8.42  0.0\n",
            "26243   1.20   62.1   59.0  15686  0.00  0.00  0.0\n",
            "27112   2.20   61.2   59.0  17265  8.42  8.37  0.0\n",
            "27429   2.25   62.8   59.0  18034  0.00  0.00  0.0\n",
            "27503   2.02   62.7   53.0  18207  8.02  7.95  0.0\n",
            "27739   2.80   63.8   58.0  18788  8.90  8.85  0.0\n",
            "49556   0.71   64.1   60.0   2130  0.00  0.00  0.0\n",
            "49557   0.71   64.1   60.0   2130  0.00  0.00  0.0\n",
            "51506   1.12   60.4   59.0   2383  6.71  6.67  0.0\n"
          ]
        }
      ],
      "source": [
        "# Find and show the zero values in x, y, z and remove them from your df (low outliers are x<3.5 or y<3.5 or z<2)\n",
        "# Remove these entries from the dataframe\n",
        "# show entries I am removing\n",
        "\n",
        "zero_values = df_numeric_values[(df_numeric_values['x'] == 0) | (df_numeric_values['y'] == 0) | (df_numeric_values['z'] == 0)]\n",
        "\n",
        "print(zero_values.shape)\n",
        "print(zero_values)\n"
      ]
    },
    {
      "cell_type": "markdown",
      "metadata": {
        "id": "mhCWsF9sbvAm"
      },
      "source": [
        "### Removing zero values from columns x, y and z"
      ]
    },
    {
      "cell_type": "code",
      "execution_count": null,
      "metadata": {
        "id": "5wmlRNFVbvAm",
        "outputId": "c0a0050b-41d0-4a6b-9833-78eced989d82"
      },
      "outputs": [
        {
          "name": "stdout",
          "output_type": "stream",
          "text": [
            "(53920, 7)\n",
            "       carat  depth  table  price     x     y     z\n",
            "0       0.23   61.5   55.0    326  3.95  3.98  2.43\n",
            "1       0.21   59.8   61.0    326  3.89  3.84  2.31\n",
            "2       0.23   56.9   65.0    327  4.05  4.07  2.31\n",
            "3       0.29   62.4   58.0    334  4.20  4.23  2.63\n",
            "4       0.31   63.3   58.0    335  4.34  4.35  2.75\n",
            "...      ...    ...    ...    ...   ...   ...   ...\n",
            "53935   0.72   60.8   57.0   2757  5.75  5.76  3.50\n",
            "53936   0.72   63.1   55.0   2757  5.69  5.75  3.61\n",
            "53937   0.70   62.8   60.0   2757  5.66  5.68  3.56\n",
            "53938   0.86   61.0   58.0   2757  6.15  6.12  3.74\n",
            "53939   0.75   62.2   55.0   2757  5.83  5.87  3.64\n",
            "\n",
            "[53920 rows x 7 columns]\n"
          ]
        }
      ],
      "source": [
        "no_zero_values = df_numeric_values.drop(zero_values.index, axis=0)\n",
        "\n",
        "print(no_zero_values.shape)\n",
        "print(no_zero_values)"
      ]
    },
    {
      "cell_type": "markdown",
      "metadata": {
        "id": "RONh35IHbvAm"
      },
      "source": [
        "### Finding and removing low outliers"
      ]
    },
    {
      "cell_type": "code",
      "execution_count": null,
      "metadata": {
        "id": "KmeSizlpbvAm",
        "outputId": "40aa6778-5955-4f36-bb88-d313166b4ddd"
      },
      "outputs": [
        {
          "name": "stdout",
          "output_type": "stream",
          "text": [
            "(3, 7)\n",
            "       carat  depth  table  price     x     y     z\n",
            "14635   1.07   60.6   57.0   5909  6.62  6.67  1.07\n",
            "20694   1.53   61.9   54.0   8971  7.43  7.50  1.53\n",
            "21654   1.41   60.7   56.0   9752  7.31  7.22  1.41\n"
          ]
        }
      ],
      "source": [
        "low_outliers = no_zero_values[(no_zero_values['x'] < 3.5) | (no_zero_values['y'] < 3.5) | (no_zero_values['z'] < 2.0)]\n",
        "\n",
        "print(low_outliers.shape)\n",
        "print(low_outliers)\n"
      ]
    },
    {
      "cell_type": "code",
      "execution_count": null,
      "metadata": {
        "id": "oJM2TMTJbvAm",
        "outputId": "2c8282b7-5ad2-49f9-8e4f-7a01fbca10b0"
      },
      "outputs": [
        {
          "name": "stdout",
          "output_type": "stream",
          "text": [
            "(53917, 7)\n",
            "       carat  depth  table  price     x     y     z\n",
            "0       0.23   61.5   55.0    326  3.95  3.98  2.43\n",
            "1       0.21   59.8   61.0    326  3.89  3.84  2.31\n",
            "2       0.23   56.9   65.0    327  4.05  4.07  2.31\n",
            "3       0.29   62.4   58.0    334  4.20  4.23  2.63\n",
            "4       0.31   63.3   58.0    335  4.34  4.35  2.75\n",
            "...      ...    ...    ...    ...   ...   ...   ...\n",
            "53935   0.72   60.8   57.0   2757  5.75  5.76  3.50\n",
            "53936   0.72   63.1   55.0   2757  5.69  5.75  3.61\n",
            "53937   0.70   62.8   60.0   2757  5.66  5.68  3.56\n",
            "53938   0.86   61.0   58.0   2757  6.15  6.12  3.74\n",
            "53939   0.75   62.2   55.0   2757  5.83  5.87  3.64\n",
            "\n",
            "[53917 rows x 7 columns]\n"
          ]
        }
      ],
      "source": [
        "no_low_outliers = no_zero_values.drop(low_outliers.index, axis = 0)\n",
        "\n",
        "print(no_low_outliers.shape)\n",
        "print(no_low_outliers)"
      ]
    },
    {
      "cell_type": "code",
      "execution_count": null,
      "metadata": {
        "id": "adWnP6vBbvAn",
        "outputId": "107bbd0f-8d55-442f-e0f4-6f9506186393"
      },
      "outputs": [
        {
          "name": "stdout",
          "output_type": "stream",
          "text": [
            "(15, 7)\n",
            "       carat  depth  table  price      x      y      z\n",
            "23644   3.65   67.1   53.0  11668   9.53   9.48   6.38\n",
            "24067   2.00   58.9   57.0  12210   8.09  58.90   8.06\n",
            "24328   3.50   62.8   57.0  12587   9.65   9.59   6.03\n",
            "25998   4.01   61.0   61.0  15223  10.14  10.10   6.17\n",
            "25999   4.01   62.5   62.0  15223  10.02   9.94   6.24\n",
            "26194   2.01   65.6   56.0  15562   7.89   7.84   6.16\n",
            "26431   3.40   66.8   52.0  15964   9.42   9.34   6.27\n",
            "26444   4.00   63.3   58.0  15984  10.01   9.94   6.31\n",
            "26534   3.67   62.4   56.0  16193   9.86   9.81   6.13\n",
            "27130   4.13   64.8   61.0  17329  10.00   9.85   6.43\n",
            "27415   5.01   65.5   59.0  18018  10.74  10.54   6.98\n",
            "27630   4.50   65.8   58.0  18531  10.23  10.16   6.72\n",
            "27679   3.51   62.5   59.0  18701   9.66   9.63   6.03\n",
            "48410   0.51   61.8   54.7   1970   5.12   5.15  31.80\n",
            "49189   0.51   61.8   55.0   2075   5.15  31.80   5.12\n"
          ]
        }
      ],
      "source": [
        "# Find and show high outliers, and remove them from your df ( high outliers are the ones y>10 or z>6)\n",
        "# Remove these entries from the dataframe\n",
        "\n",
        "high_outliers = no_low_outliers[(no_low_outliers['y'] > 10) | (no_low_outliers['z'] > 6)]\n",
        "\n",
        "print(high_outliers.shape)\n",
        "print(high_outliers)"
      ]
    },
    {
      "cell_type": "code",
      "execution_count": null,
      "metadata": {
        "id": "qlmOqvwpbvAn",
        "outputId": "a15bd666-89bc-4afe-f879-e0f4fe745f01"
      },
      "outputs": [
        {
          "name": "stdout",
          "output_type": "stream",
          "text": [
            "(53902, 7)\n",
            "       carat  depth  table  price     x     y     z\n",
            "0       0.23   61.5   55.0    326  3.95  3.98  2.43\n",
            "1       0.21   59.8   61.0    326  3.89  3.84  2.31\n",
            "2       0.23   56.9   65.0    327  4.05  4.07  2.31\n",
            "3       0.29   62.4   58.0    334  4.20  4.23  2.63\n",
            "4       0.31   63.3   58.0    335  4.34  4.35  2.75\n",
            "...      ...    ...    ...    ...   ...   ...   ...\n",
            "53935   0.72   60.8   57.0   2757  5.75  5.76  3.50\n",
            "53936   0.72   63.1   55.0   2757  5.69  5.75  3.61\n",
            "53937   0.70   62.8   60.0   2757  5.66  5.68  3.56\n",
            "53938   0.86   61.0   58.0   2757  6.15  6.12  3.74\n",
            "53939   0.75   62.2   55.0   2757  5.83  5.87  3.64\n",
            "\n",
            "[53902 rows x 7 columns]\n"
          ]
        }
      ],
      "source": [
        "no_outliers = no_low_outliers.drop(high_outliers.index, axis = 0)\n",
        "\n",
        "print(no_outliers.shape)\n",
        "print(no_outliers)"
      ]
    },
    {
      "cell_type": "code",
      "execution_count": null,
      "metadata": {
        "id": "TnTHfqAcbvAn",
        "outputId": "74c27cae-03f3-492b-dffe-bf8ab506c98f"
      },
      "outputs": [
        {
          "name": "stdout",
          "output_type": "stream",
          "text": [
            "(1758, 7)\n",
            "       carat  depth  table  price     x     y     z\n",
            "0       0.23   61.5   55.0    326  3.95  3.98  2.43\n",
            "96      0.70   59.4   62.0   2759  5.71  5.76  3.40\n",
            "97      0.96   66.3   62.0   2759  6.27  5.95  4.07\n",
            "151     0.74   61.3   56.0   2769  5.82  5.86  3.57\n",
            "177     0.72   63.7   56.4   2776  5.62  5.69  3.61\n",
            "...      ...    ...    ...    ...   ...   ...   ...\n",
            "53727   0.78   66.9   57.0   2721  5.70  5.66  3.60\n",
            "53757   0.72   55.4   64.0   2724  6.06  5.97  3.34\n",
            "53814   0.77   64.3   57.9   2734  5.70  5.86  3.71\n",
            "53839   0.71   61.6   57.0   2738  5.72  5.76  3.53\n",
            "53863   1.00   66.8   56.0   2743  6.22  6.12  4.13\n",
            "\n",
            "[1758 rows x 7 columns]\n"
          ]
        }
      ],
      "source": [
        "# Find and show the points of which depth values do not match x, y, and z values, and remove them from your df\n",
        "# (incorrect depth the ones which satify; abs(2 * z / (x + y)) - depth  < 0.1  )\n",
        "# Remove these entries from the dataframe\n",
        "\n",
        "incorrect_depth = no_outliers[abs(no_outliers['depth'] - abs(2 * no_outliers['z'] / ( no_outliers['x'] + no_outliers['y'] ) ) * 100) > 0.1]\n",
        "\n",
        "print(incorrect_depth.shape)\n",
        "print(incorrect_depth)\n"
      ]
    },
    {
      "cell_type": "code",
      "execution_count": null,
      "metadata": {
        "id": "N2d2gtwobvAn",
        "outputId": "c9df695c-5bc4-4b41-becd-4b5a6e2d3f9b"
      },
      "outputs": [
        {
          "name": "stdout",
          "output_type": "stream",
          "text": [
            "(52144, 7)\n",
            "       carat  depth  table  price     x     y     z\n",
            "1       0.21   59.8   61.0    326  3.89  3.84  2.31\n",
            "2       0.23   56.9   65.0    327  4.05  4.07  2.31\n",
            "3       0.29   62.4   58.0    334  4.20  4.23  2.63\n",
            "4       0.31   63.3   58.0    335  4.34  4.35  2.75\n",
            "5       0.24   62.8   57.0    336  3.94  3.96  2.48\n",
            "...      ...    ...    ...    ...   ...   ...   ...\n",
            "53935   0.72   60.8   57.0   2757  5.75  5.76  3.50\n",
            "53936   0.72   63.1   55.0   2757  5.69  5.75  3.61\n",
            "53937   0.70   62.8   60.0   2757  5.66  5.68  3.56\n",
            "53938   0.86   61.0   58.0   2757  6.15  6.12  3.74\n",
            "53939   0.75   62.2   55.0   2757  5.83  5.87  3.64\n",
            "\n",
            "[52144 rows x 7 columns]\n"
          ]
        }
      ],
      "source": [
        "final_df = no_outliers.drop(incorrect_depth.index, axis = 0)\n",
        "\n",
        "print(final_df.shape)\n",
        "print(final_df)"
      ]
    },
    {
      "cell_type": "markdown",
      "metadata": {
        "id": "9b3fCAaibvAn"
      },
      "source": [
        "## Question 1. How many samples were there in the original data and how many samples left after you clean the outliers?\n",
        "$\\color{red}{\\text{Answer:}}$\n",
        "\n",
        "The original data set consisted 53,940 rows and 10 columns. After dropping columns with alphanumeric values, we were left with 7 columns consisted only of numeric values. Further, we cleaned the data by getting rid of values equal to 0 in x, y, and z attributes. We deleted rows that consisted of lower or upper outliers. Finally, we got rid of the rows that consisted depth values that were too far off of a calculated depth values. Leaving us 7 columns and 52,144 rows of cleaned up data."
      ]
    },
    {
      "cell_type": "markdown",
      "metadata": {
        "id": "53SJUZJ6bvAn"
      },
      "source": [
        "### Correlation and Heatmaps"
      ]
    },
    {
      "cell_type": "code",
      "execution_count": null,
      "metadata": {
        "id": "UM3oenZybvAn",
        "outputId": "c2bc5d14-a29c-4c48-a97f-14955bd0fbcb"
      },
      "outputs": [
        {
          "data": {
            "text/html": [
              "<div>\n",
              "<style scoped>\n",
              "    .dataframe tbody tr th:only-of-type {\n",
              "        vertical-align: middle;\n",
              "    }\n",
              "\n",
              "    .dataframe tbody tr th {\n",
              "        vertical-align: top;\n",
              "    }\n",
              "\n",
              "    .dataframe thead th {\n",
              "        text-align: right;\n",
              "    }\n",
              "</style>\n",
              "<table border=\"1\" class=\"dataframe\">\n",
              "  <thead>\n",
              "    <tr style=\"text-align: right;\">\n",
              "      <th></th>\n",
              "      <th>carat</th>\n",
              "      <th>depth</th>\n",
              "      <th>table</th>\n",
              "      <th>price</th>\n",
              "      <th>x</th>\n",
              "      <th>y</th>\n",
              "      <th>z</th>\n",
              "    </tr>\n",
              "  </thead>\n",
              "  <tbody>\n",
              "    <tr>\n",
              "      <th>carat</th>\n",
              "      <td>1.000000</td>\n",
              "      <td>0.024942</td>\n",
              "      <td>0.179699</td>\n",
              "      <td>0.923743</td>\n",
              "      <td>0.978845</td>\n",
              "      <td>0.978163</td>\n",
              "      <td>0.978058</td>\n",
              "    </tr>\n",
              "    <tr>\n",
              "      <th>depth</th>\n",
              "      <td>0.024942</td>\n",
              "      <td>1.000000</td>\n",
              "      <td>-0.307307</td>\n",
              "      <td>-0.011565</td>\n",
              "      <td>-0.027911</td>\n",
              "      <td>-0.030379</td>\n",
              "      <td>0.093437</td>\n",
              "    </tr>\n",
              "    <tr>\n",
              "      <th>table</th>\n",
              "      <td>0.179699</td>\n",
              "      <td>-0.307307</td>\n",
              "      <td>1.000000</td>\n",
              "      <td>0.127266</td>\n",
              "      <td>0.192920</td>\n",
              "      <td>0.187719</td>\n",
              "      <td>0.152653</td>\n",
              "    </tr>\n",
              "    <tr>\n",
              "      <th>price</th>\n",
              "      <td>0.923743</td>\n",
              "      <td>-0.011565</td>\n",
              "      <td>0.127266</td>\n",
              "      <td>1.000000</td>\n",
              "      <td>0.888144</td>\n",
              "      <td>0.889521</td>\n",
              "      <td>0.883748</td>\n",
              "    </tr>\n",
              "    <tr>\n",
              "      <th>x</th>\n",
              "      <td>0.978845</td>\n",
              "      <td>-0.027911</td>\n",
              "      <td>0.192920</td>\n",
              "      <td>0.888144</td>\n",
              "      <td>1.000000</td>\n",
              "      <td>0.998963</td>\n",
              "      <td>0.992120</td>\n",
              "    </tr>\n",
              "    <tr>\n",
              "      <th>y</th>\n",
              "      <td>0.978163</td>\n",
              "      <td>-0.030379</td>\n",
              "      <td>0.187719</td>\n",
              "      <td>0.889521</td>\n",
              "      <td>0.998963</td>\n",
              "      <td>1.000000</td>\n",
              "      <td>0.991820</td>\n",
              "    </tr>\n",
              "    <tr>\n",
              "      <th>z</th>\n",
              "      <td>0.978058</td>\n",
              "      <td>0.093437</td>\n",
              "      <td>0.152653</td>\n",
              "      <td>0.883748</td>\n",
              "      <td>0.992120</td>\n",
              "      <td>0.991820</td>\n",
              "      <td>1.000000</td>\n",
              "    </tr>\n",
              "  </tbody>\n",
              "</table>\n",
              "</div>"
            ],
            "text/plain": [
              "          carat     depth     table     price         x         y         z\n",
              "carat  1.000000  0.024942  0.179699  0.923743  0.978845  0.978163  0.978058\n",
              "depth  0.024942  1.000000 -0.307307 -0.011565 -0.027911 -0.030379  0.093437\n",
              "table  0.179699 -0.307307  1.000000  0.127266  0.192920  0.187719  0.152653\n",
              "price  0.923743 -0.011565  0.127266  1.000000  0.888144  0.889521  0.883748\n",
              "x      0.978845 -0.027911  0.192920  0.888144  1.000000  0.998963  0.992120\n",
              "y      0.978163 -0.030379  0.187719  0.889521  0.998963  1.000000  0.991820\n",
              "z      0.978058  0.093437  0.152653  0.883748  0.992120  0.991820  1.000000"
            ]
          },
          "execution_count": 402,
          "metadata": {},
          "output_type": "execute_result"
        }
      ],
      "source": [
        "# Find and show the correlation matrix\n",
        "\n",
        "final_df_corr = final_df.corr()\n",
        "final_df.corr()\n"
      ]
    },
    {
      "cell_type": "code",
      "execution_count": null,
      "metadata": {
        "id": "PJK_WgzibvAn",
        "outputId": "29638a45-5928-4365-8f90-ada7dc86eefb"
      },
      "outputs": [
        {
          "data": {
            "image/png": "[encoded data removed]",
            "text/plain": [
              "<Figure size 720x576 with 2 Axes>"
            ]
          },
          "metadata": {
            "needs_background": "light"
          },
          "output_type": "display_data"
        }
      ],
      "source": [
        "# Use seaborn heatmap to see the correlations\n",
        "\n",
        "plt.rcParams['figure.figsize'] = [10, 8]\n",
        "plt.rcParams.update({'font.size': 10})\n",
        "\n",
        "ax = sns.heatmap(final_df_corr, annot = True, cmap = 'coolwarm').set_title('Attribute correlations between dimonds')"
      ]
    },
    {
      "cell_type": "markdown",
      "metadata": {
        "id": "-J0_eeGFbvAn"
      },
      "source": [
        "## Question 2. Which feature has the highest correlation with the price, please explain your graph?\n",
        "$\\color{red}{\\text{Answer:}}$\n",
        "\n",
        "Length, width, depth, and carat were highly correlated with a price of a diamond. In other words, the size and carat of a diamond determine the price of the dimond. Moreover, carat is highly correlated with the size of a dimond, which makes sense because carat measures the weight of a dimond. In conclusion, the bigger the diamond the higher the price and"
      ]
    },
    {
      "cell_type": "code",
      "execution_count": null,
      "metadata": {
        "id": "uG-OKTzgbvAn"
      },
      "outputs": [],
      "source": [
        "### PCA Analysis\n",
        "from sklearn.decomposition import PCA\n",
        "from sklearn import preprocessing"
      ]
    },
    {
      "cell_type": "code",
      "execution_count": null,
      "metadata": {
        "id": "UQ_sqKtSbvAn",
        "outputId": "0948a96c-b99d-460d-c403-98cf2d60ca99"
      },
      "outputs": [
        {
          "name": "stdout",
          "output_type": "stream",
          "text": [
            "[[-1.24700544 -1.38519259  1.59586549 ... -1.64847254 -1.70668917\n",
            "  -1.78282627]\n",
            " [-1.20454621 -3.4469928   3.40197565 ... -1.50526759 -1.4994573\n",
            "  -1.78282627]\n",
            " [-1.07716851  0.46331794  0.24128286 ... -1.37101296 -1.355296\n",
            "  -1.31885253]\n",
            " ...\n",
            " [-0.20675425  0.74770417  1.14433795 ... -0.06426787 -0.04883421\n",
            "   0.02957116]\n",
            " [ 0.13291961 -0.53203389  0.24128286 ...  0.37429727  0.34760936\n",
            "   0.29055639]\n",
            " [-0.10060617  0.32112482 -1.11329976 ...  0.08788738  0.12235733\n",
            "   0.1455646 ]]\n"
          ]
        }
      ],
      "source": [
        "# Create a PCA object and calculate the principal components and show them.\n",
        "# Also transform the data using the PCA\n",
        "\n",
        "scaled_data = preprocessing.scale(final_df)\n",
        "\n",
        "print(scaled_data)\n"
      ]
    },
    {
      "cell_type": "code",
      "execution_count": null,
      "metadata": {
        "id": "qwxvRNTybvAn",
        "outputId": "1bc4a2e8-4805-41d9-d965-50070625da99"
      },
      "outputs": [
        {
          "name": "stdout",
          "output_type": "stream",
          "text": [
            "PCA(n_components=3)\n"
          ]
        }
      ],
      "source": [
        "pca = PCA(n_components = 3)\n",
        "principal_components = pca.fit(scaled_data)\n",
        "\n",
        "print(principal_components)\n"
      ]
    },
    {
      "cell_type": "code",
      "execution_count": null,
      "metadata": {
        "id": "ay0TEWeZbvAn"
      },
      "outputs": [],
      "source": [
        "pca_data = pca.transform(scaled_data)"
      ]
    },
    {
      "cell_type": "code",
      "execution_count": null,
      "metadata": {
        "id": "xaMgegZ5bvAo",
        "outputId": "8b832571-17e2-4327-9687-952ecca7156b"
      },
      "outputs": [
        {
          "name": "stdout",
          "output_type": "stream",
          "text": [
            "[[ 0.45048568 -0.00209725  0.09780581  0.42356814  0.45090377  0.45082895\n",
            "   0.44891129]\n",
            " [-0.03454976 -0.72944548  0.67668023 -0.03538847  0.00273288  0.00140702\n",
            "  -0.08693493]\n",
            " [-0.00621292  0.67479844  0.72694411 -0.10284451 -0.0409455  -0.04918881\n",
            "   0.03857014]]\n"
          ]
        }
      ],
      "source": [
        "print(pca.components_)"
      ]
    },
    {
      "cell_type": "markdown",
      "metadata": {
        "id": "vtFLXmepbvAo"
      },
      "source": [
        "## Question 3. How many principal components will be calculated if you don't specify the components number for this example? Why? Explain it.\n",
        "$\\color{red}{\\text{Answer:}}$\n",
        "\n",
        "However many it takes to describe 100% of the data. in this case it takes 3 principal components to describe about 97.39% of the data and 5 principal components to describe 99.981054% of the data."
      ]
    },
    {
      "cell_type": "code",
      "execution_count": null,
      "metadata": {
        "id": "hV9xgHzUbvAo",
        "outputId": "24b5b843-350b-4fd1-be93-1836dc4528e5"
      },
      "outputs": [
        {
          "name": "stdout",
          "output_type": "stream",
          "text": [
            "[4.84084007 1.29702208 0.67973994]\n",
            "[0.69153532 0.18528531 0.09710384]\n"
          ]
        }
      ],
      "source": [
        "# Show the variance and the variance ratios in %\n",
        "print(pca.explained_variance_)\n",
        "print(pca.explained_variance_ratio_ )"
      ]
    },
    {
      "cell_type": "code",
      "execution_count": null,
      "metadata": {
        "id": "iS87etSZbvAo",
        "outputId": "9ed4401b-16e3-44f1-d9a9-a98232621e93"
      },
      "outputs": [
        {
          "data": {
            "image/png": "[encoded data removed]",
            "text/plain": [
              "<Figure size 720x576 with 1 Axes>"
            ]
          },
          "metadata": {
            "needs_background": "light"
          },
          "output_type": "display_data"
        }
      ],
      "source": [
        "# Plot the variace ratios as a bar graph\n",
        "\n",
        "per_var = np.round(pca.explained_variance_ratio_ * 100, decimals=1)\n",
        "labels = ['PC' + str(x) for x in range(1, len(per_var) + 1)]\n",
        "plt.bar(x=range(1, len(per_var) + 1), height=per_var, tick_label=labels)\n",
        "plt.ylabel('Percentage of Explained Variance')\n",
        "plt.xlabel('Principal Component')\n",
        "plt.title('Scree Plot')\n",
        "plt.show()"
      ]
    },
    {
      "cell_type": "markdown",
      "metadata": {
        "id": "bog1K9P7bvAo"
      },
      "source": [
        "## Question 4. As a good data visualizer expert, how many principal components should be used to transform this data without loosing much information? Explain your calculations.\n",
        "$\\color{red}{\\text{Answer:}}$\n",
        "\n",
        "We should at least have 3 principal components beacuse their sum passes the 95% test we need to pass to have enough variance so it does not look like we lost a lot of data."
      ]
    },
    {
      "cell_type": "code",
      "execution_count": null,
      "metadata": {
        "id": "V9CZPtxRbvAo",
        "outputId": "99675650-2606-46cd-feac-be9e562cee1b"
      },
      "outputs": [
        {
          "name": "stdout",
          "output_type": "stream",
          "text": [
            "            PC1       PC2       PC3\n",
            "0     -3.099619  2.313546  0.408997\n",
            "1     -2.741416  5.038883  0.314292\n",
            "2     -2.666814  0.003517  0.659652\n",
            "3     -2.465572 -0.479340  1.087407\n",
            "4     -3.071414 -0.487888  0.537034\n",
            "...         ...       ...       ...\n",
            "52139 -0.226619  0.370775 -0.580335\n",
            "52140 -0.275051 -1.447134 -0.124568\n",
            "52141 -0.146007  0.243755  1.374351\n",
            "52142  0.415010  0.533507 -0.175187\n",
            "52143 -0.120248 -0.985872 -0.565517\n",
            "\n",
            "[52144 rows x 3 columns]\n"
          ]
        }
      ],
      "source": [
        "# Create a new dataframe using the new data set\n",
        "pca_df = pd.DataFrame(pca_data, columns=['PC1','PC2', 'PC3'])\n",
        "print(pca_df)"
      ]
    },
    {
      "cell_type": "code",
      "execution_count": null,
      "metadata": {
        "id": "zFA_Z0qMbvAo",
        "outputId": "20c022bf-9c4d-43e2-b7ca-9624899165d6"
      },
      "outputs": [
        {
          "data": {
            "image/png": "[encoded data removed]",
            "text/plain": [
              "<Figure size 720x576 with 1 Axes>"
            ]
          },
          "metadata": {
            "needs_background": "light"
          },
          "output_type": "display_data"
        }
      ],
      "source": [
        "figure = plt.figure()\n",
        "fig = figure.add_subplot( projection='3d')\n",
        "\n",
        "\n",
        "x = np.array(pca_df['PC1'])\n",
        "y = np.array(pca_df['PC2'])\n",
        "z = np.array(pca_df['PC3'])\n",
        "\n",
        "\n",
        "fig.scatter(x,y,z)\n",
        "\n",
        "fig.set_xlabel('PC1')\n",
        "fig.set_ylabel('PC2')\n",
        "fig.set_zlabel('PC3')\n",
        "\n",
        "plt.show()"
      ]
    },
    {
      "cell_type": "code",
      "execution_count": null,
      "metadata": {
        "id": "f1ycLsxNbvAo",
        "outputId": "a0b6b826-d48d-43b2-c8d4-a34b582af90a"
      },
      "outputs": [
        {
          "name": "stdout",
          "output_type": "stream",
          "text": [
            "[[ 0.45048568 -0.00209725  0.09780581  0.42356814  0.45090377  0.45082895\n",
            "   0.44891129]\n",
            " [-0.03454976 -0.72944548  0.67668023 -0.03538847  0.00273288  0.00140702\n",
            "  -0.08693493]\n",
            " [-0.00621292  0.67479844  0.72694411 -0.10284451 -0.0409455  -0.04918881\n",
            "   0.03857014]]\n"
          ]
        }
      ],
      "source": [
        "print(pca.components_)"
      ]
    },
    {
      "cell_type": "code",
      "execution_count": null,
      "metadata": {
        "id": "oHkAkYsCbvAo",
        "outputId": "6d7c2c71-c8c0-4d08-837d-ae1598f3c3f5"
      },
      "outputs": [
        {
          "name": "stdout",
          "output_type": "stream",
          "text": [
            "4\n"
          ]
        }
      ],
      "source": [
        "# Show the most important PC and show the column which has the highest affect on the variance\n",
        "print(np.argmax(pca.components_[0]))"
      ]
    },
    {
      "cell_type": "markdown",
      "metadata": {
        "id": "Giq1O71xbvAo"
      },
      "source": [
        "## Question 5. Which feature/features have the highest effect on the variance or in other words, which feature is responsible from the differences between diamonds the most? Explain it.\n",
        "$\\color{red}{\\text{Answer:}}$\n",
        "\n",
        "5th column (index 4) which is variable x - length in mm has the highest effect on the variance, but it is very close with column 1, 6 and 7 which are carat, y - width in mm, and z - depth in mm respectively."
      ]
    },
    {
      "cell_type": "markdown",
      "metadata": {
        "id": "e8MSAkVebvAo"
      },
      "source": [
        "## GRADUATE STUDENTS WORK. Find and show the realtions between the color and the price. Explain your approach and discuss your calculations and the graphs below.\n",
        "$\\color{red}{\\text{Answer:}}$\n",
        "\n",
        "First, I cleaned the data and got rid of outliers and diamonds whose depth did not match the depth formula. Then, I dropped unnecesary columns and only left the two column we are working on - color and price. I created a boxplot to see the general price distribution across all colors. Based on the boxplot graph, D and E represent the lowest group of prices among the rest of the colors, this include median prices and first quartiles. F anf G represent the second group with medium prices compared to the rest of the colors. And lastly, the third group with overall higher prices encompases H, I, and J.   "
      ]
    },
    {
      "cell_type": "code",
      "execution_count": null,
      "metadata": {
        "id": "XtCRKlzWbvAo",
        "outputId": "192f593e-ee57-4b14-e891-e81d77198fa8"
      },
      "outputs": [
        {
          "name": "stdout",
          "output_type": "stream",
          "text": [
            "(38, 10)\n"
          ]
        },
        {
          "data": {
            "text/html": [
              "<div>\n",
              "<style scoped>\n",
              "    .dataframe tbody tr th:only-of-type {\n",
              "        vertical-align: middle;\n",
              "    }\n",
              "\n",
              "    .dataframe tbody tr th {\n",
              "        vertical-align: top;\n",
              "    }\n",
              "\n",
              "    .dataframe thead th {\n",
              "        text-align: right;\n",
              "    }\n",
              "</style>\n",
              "<table border=\"1\" class=\"dataframe\">\n",
              "  <thead>\n",
              "    <tr style=\"text-align: right;\">\n",
              "      <th></th>\n",
              "      <th>carat</th>\n",
              "      <th>cut</th>\n",
              "      <th>color</th>\n",
              "      <th>clarity</th>\n",
              "      <th>depth</th>\n",
              "      <th>table</th>\n",
              "      <th>price</th>\n",
              "      <th>x</th>\n",
              "      <th>y</th>\n",
              "      <th>z</th>\n",
              "    </tr>\n",
              "  </thead>\n",
              "  <tbody>\n",
              "    <tr>\n",
              "      <th>2207</th>\n",
              "      <td>1.00</td>\n",
              "      <td>Premium</td>\n",
              "      <td>G</td>\n",
              "      <td>SI2</td>\n",
              "      <td>59.1</td>\n",
              "      <td>59.0</td>\n",
              "      <td>3142</td>\n",
              "      <td>6.55</td>\n",
              "      <td>6.48</td>\n",
              "      <td>0.0</td>\n",
              "    </tr>\n",
              "    <tr>\n",
              "      <th>2314</th>\n",
              "      <td>1.01</td>\n",
              "      <td>Premium</td>\n",
              "      <td>H</td>\n",
              "      <td>I1</td>\n",
              "      <td>58.1</td>\n",
              "      <td>59.0</td>\n",
              "      <td>3167</td>\n",
              "      <td>6.66</td>\n",
              "      <td>6.60</td>\n",
              "      <td>0.0</td>\n",
              "    </tr>\n",
              "    <tr>\n",
              "      <th>4791</th>\n",
              "      <td>1.10</td>\n",
              "      <td>Premium</td>\n",
              "      <td>G</td>\n",
              "      <td>SI2</td>\n",
              "      <td>63.0</td>\n",
              "      <td>59.0</td>\n",
              "      <td>3696</td>\n",
              "      <td>6.50</td>\n",
              "      <td>6.47</td>\n",
              "      <td>0.0</td>\n",
              "    </tr>\n",
              "    <tr>\n",
              "      <th>5471</th>\n",
              "      <td>1.01</td>\n",
              "      <td>Premium</td>\n",
              "      <td>F</td>\n",
              "      <td>SI2</td>\n",
              "      <td>59.2</td>\n",
              "      <td>58.0</td>\n",
              "      <td>3837</td>\n",
              "      <td>6.50</td>\n",
              "      <td>6.47</td>\n",
              "      <td>0.0</td>\n",
              "    </tr>\n",
              "    <tr>\n",
              "      <th>10167</th>\n",
              "      <td>1.50</td>\n",
              "      <td>Good</td>\n",
              "      <td>G</td>\n",
              "      <td>I1</td>\n",
              "      <td>64.0</td>\n",
              "      <td>61.0</td>\n",
              "      <td>4731</td>\n",
              "      <td>7.15</td>\n",
              "      <td>7.04</td>\n",
              "      <td>0.0</td>\n",
              "    </tr>\n",
              "  </tbody>\n",
              "</table>\n",
              "</div>"
            ],
            "text/plain": [
              "       carat      cut color clarity  depth  table  price     x     y    z\n",
              "2207    1.00  Premium     G     SI2   59.1   59.0   3142  6.55  6.48  0.0\n",
              "2314    1.01  Premium     H      I1   58.1   59.0   3167  6.66  6.60  0.0\n",
              "4791    1.10  Premium     G     SI2   63.0   59.0   3696  6.50  6.47  0.0\n",
              "5471    1.01  Premium     F     SI2   59.2   58.0   3837  6.50  6.47  0.0\n",
              "10167   1.50     Good     G      I1   64.0   61.0   4731  7.15  7.04  0.0"
            ]
          },
          "execution_count": 415,
          "metadata": {},
          "output_type": "execute_result"
        }
      ],
      "source": [
        "outliers = df[(df['x'] < 3.5) | (df['y'] < 3.5) | (df['z'] < 2.0) | (df['y'] > 10) | (df['z'] > 6)]\n",
        "print(outliers.shape)\n",
        "outliers.head()"
      ]
    },
    {
      "cell_type": "code",
      "execution_count": null,
      "metadata": {
        "id": "ibKtbZdObvAo",
        "outputId": "1747def3-6df4-4f74-a2e5-e664a382b235"
      },
      "outputs": [
        {
          "name": "stdout",
          "output_type": "stream",
          "text": [
            "(53902, 10)\n"
          ]
        },
        {
          "data": {
            "text/html": [
              "<div>\n",
              "<style scoped>\n",
              "    .dataframe tbody tr th:only-of-type {\n",
              "        vertical-align: middle;\n",
              "    }\n",
              "\n",
              "    .dataframe tbody tr th {\n",
              "        vertical-align: top;\n",
              "    }\n",
              "\n",
              "    .dataframe thead th {\n",
              "        text-align: right;\n",
              "    }\n",
              "</style>\n",
              "<table border=\"1\" class=\"dataframe\">\n",
              "  <thead>\n",
              "    <tr style=\"text-align: right;\">\n",
              "      <th></th>\n",
              "      <th>carat</th>\n",
              "      <th>cut</th>\n",
              "      <th>color</th>\n",
              "      <th>clarity</th>\n",
              "      <th>depth</th>\n",
              "      <th>table</th>\n",
              "      <th>price</th>\n",
              "      <th>x</th>\n",
              "      <th>y</th>\n",
              "      <th>z</th>\n",
              "    </tr>\n",
              "  </thead>\n",
              "  <tbody>\n",
              "    <tr>\n",
              "      <th>0</th>\n",
              "      <td>0.23</td>\n",
              "      <td>Ideal</td>\n",
              "      <td>E</td>\n",
              "      <td>SI2</td>\n",
              "      <td>61.5</td>\n",
              "      <td>55.0</td>\n",
              "      <td>326</td>\n",
              "      <td>3.95</td>\n",
              "      <td>3.98</td>\n",
              "      <td>2.43</td>\n",
              "    </tr>\n",
              "    <tr>\n",
              "      <th>1</th>\n",
              "      <td>0.21</td>\n",
              "      <td>Premium</td>\n",
              "      <td>E</td>\n",
              "      <td>SI1</td>\n",
              "      <td>59.8</td>\n",
              "      <td>61.0</td>\n",
              "      <td>326</td>\n",
              "      <td>3.89</td>\n",
              "      <td>3.84</td>\n",
              "      <td>2.31</td>\n",
              "    </tr>\n",
              "    <tr>\n",
              "      <th>2</th>\n",
              "      <td>0.23</td>\n",
              "      <td>Good</td>\n",
              "      <td>E</td>\n",
              "      <td>VS1</td>\n",
              "      <td>56.9</td>\n",
              "      <td>65.0</td>\n",
              "      <td>327</td>\n",
              "      <td>4.05</td>\n",
              "      <td>4.07</td>\n",
              "      <td>2.31</td>\n",
              "    </tr>\n",
              "    <tr>\n",
              "      <th>3</th>\n",
              "      <td>0.29</td>\n",
              "      <td>Premium</td>\n",
              "      <td>I</td>\n",
              "      <td>VS2</td>\n",
              "      <td>62.4</td>\n",
              "      <td>58.0</td>\n",
              "      <td>334</td>\n",
              "      <td>4.20</td>\n",
              "      <td>4.23</td>\n",
              "      <td>2.63</td>\n",
              "    </tr>\n",
              "    <tr>\n",
              "      <th>4</th>\n",
              "      <td>0.31</td>\n",
              "      <td>Good</td>\n",
              "      <td>J</td>\n",
              "      <td>SI2</td>\n",
              "      <td>63.3</td>\n",
              "      <td>58.0</td>\n",
              "      <td>335</td>\n",
              "      <td>4.34</td>\n",
              "      <td>4.35</td>\n",
              "      <td>2.75</td>\n",
              "    </tr>\n",
              "  </tbody>\n",
              "</table>\n",
              "</div>"
            ],
            "text/plain": [
              "   carat      cut color clarity  depth  table  price     x     y     z\n",
              "0   0.23    Ideal     E     SI2   61.5   55.0    326  3.95  3.98  2.43\n",
              "1   0.21  Premium     E     SI1   59.8   61.0    326  3.89  3.84  2.31\n",
              "2   0.23     Good     E     VS1   56.9   65.0    327  4.05  4.07  2.31\n",
              "3   0.29  Premium     I     VS2   62.4   58.0    334  4.20  4.23  2.63\n",
              "4   0.31     Good     J     SI2   63.3   58.0    335  4.34  4.35  2.75"
            ]
          },
          "execution_count": 416,
          "metadata": {},
          "output_type": "execute_result"
        }
      ],
      "source": [
        "no_outliers_df = df.drop(outliers.index, axis = 0)\n",
        "print(no_outliers_df.shape)\n",
        "no_outliers_df.head()"
      ]
    },
    {
      "cell_type": "code",
      "execution_count": null,
      "metadata": {
        "id": "lxg3VjBzbvAo",
        "outputId": "02615e9f-6e10-4104-fd22-c5be9eae191f"
      },
      "outputs": [
        {
          "name": "stdout",
          "output_type": "stream",
          "text": [
            "(1758, 10)\n"
          ]
        },
        {
          "data": {
            "text/html": [
              "<div>\n",
              "<style scoped>\n",
              "    .dataframe tbody tr th:only-of-type {\n",
              "        vertical-align: middle;\n",
              "    }\n",
              "\n",
              "    .dataframe tbody tr th {\n",
              "        vertical-align: top;\n",
              "    }\n",
              "\n",
              "    .dataframe thead th {\n",
              "        text-align: right;\n",
              "    }\n",
              "</style>\n",
              "<table border=\"1\" class=\"dataframe\">\n",
              "  <thead>\n",
              "    <tr style=\"text-align: right;\">\n",
              "      <th></th>\n",
              "      <th>carat</th>\n",
              "      <th>cut</th>\n",
              "      <th>color</th>\n",
              "      <th>clarity</th>\n",
              "      <th>depth</th>\n",
              "      <th>table</th>\n",
              "      <th>price</th>\n",
              "      <th>x</th>\n",
              "      <th>y</th>\n",
              "      <th>z</th>\n",
              "    </tr>\n",
              "  </thead>\n",
              "  <tbody>\n",
              "    <tr>\n",
              "      <th>0</th>\n",
              "      <td>0.23</td>\n",
              "      <td>Ideal</td>\n",
              "      <td>E</td>\n",
              "      <td>SI2</td>\n",
              "      <td>61.5</td>\n",
              "      <td>55.0</td>\n",
              "      <td>326</td>\n",
              "      <td>3.95</td>\n",
              "      <td>3.98</td>\n",
              "      <td>2.43</td>\n",
              "    </tr>\n",
              "    <tr>\n",
              "      <th>96</th>\n",
              "      <td>0.70</td>\n",
              "      <td>Good</td>\n",
              "      <td>F</td>\n",
              "      <td>VS1</td>\n",
              "      <td>59.4</td>\n",
              "      <td>62.0</td>\n",
              "      <td>2759</td>\n",
              "      <td>5.71</td>\n",
              "      <td>5.76</td>\n",
              "      <td>3.40</td>\n",
              "    </tr>\n",
              "    <tr>\n",
              "      <th>97</th>\n",
              "      <td>0.96</td>\n",
              "      <td>Fair</td>\n",
              "      <td>F</td>\n",
              "      <td>SI2</td>\n",
              "      <td>66.3</td>\n",
              "      <td>62.0</td>\n",
              "      <td>2759</td>\n",
              "      <td>6.27</td>\n",
              "      <td>5.95</td>\n",
              "      <td>4.07</td>\n",
              "    </tr>\n",
              "    <tr>\n",
              "      <th>151</th>\n",
              "      <td>0.74</td>\n",
              "      <td>Ideal</td>\n",
              "      <td>I</td>\n",
              "      <td>SI1</td>\n",
              "      <td>61.3</td>\n",
              "      <td>56.0</td>\n",
              "      <td>2769</td>\n",
              "      <td>5.82</td>\n",
              "      <td>5.86</td>\n",
              "      <td>3.57</td>\n",
              "    </tr>\n",
              "    <tr>\n",
              "      <th>177</th>\n",
              "      <td>0.72</td>\n",
              "      <td>Very Good</td>\n",
              "      <td>G</td>\n",
              "      <td>VS2</td>\n",
              "      <td>63.7</td>\n",
              "      <td>56.4</td>\n",
              "      <td>2776</td>\n",
              "      <td>5.62</td>\n",
              "      <td>5.69</td>\n",
              "      <td>3.61</td>\n",
              "    </tr>\n",
              "  </tbody>\n",
              "</table>\n",
              "</div>"
            ],
            "text/plain": [
              "     carat        cut color clarity  depth  table  price     x     y     z\n",
              "0     0.23      Ideal     E     SI2   61.5   55.0    326  3.95  3.98  2.43\n",
              "96    0.70       Good     F     VS1   59.4   62.0   2759  5.71  5.76  3.40\n",
              "97    0.96       Fair     F     SI2   66.3   62.0   2759  6.27  5.95  4.07\n",
              "151   0.74      Ideal     I     SI1   61.3   56.0   2769  5.82  5.86  3.57\n",
              "177   0.72  Very Good     G     VS2   63.7   56.4   2776  5.62  5.69  3.61"
            ]
          },
          "execution_count": 417,
          "metadata": {},
          "output_type": "execute_result"
        }
      ],
      "source": [
        "incorrect_depth = no_outliers_df[abs((no_outliers_df['depth'] - abs(2 * no_outliers_df['z'] / ( no_outliers_df['x'] + no_outliers_df['y'] ) ) * 100)) > 0.1]\n",
        "print(incorrect_depth.shape)\n",
        "incorrect_depth.head()"
      ]
    },
    {
      "cell_type": "code",
      "execution_count": null,
      "metadata": {
        "id": "G2EMEXD9bvAp",
        "outputId": "8f605a3d-bd35-41d7-e6c7-f1a587e7bd68"
      },
      "outputs": [
        {
          "name": "stdout",
          "output_type": "stream",
          "text": [
            "(52182, 10)\n"
          ]
        },
        {
          "data": {
            "text/html": [
              "<div>\n",
              "<style scoped>\n",
              "    .dataframe tbody tr th:only-of-type {\n",
              "        vertical-align: middle;\n",
              "    }\n",
              "\n",
              "    .dataframe tbody tr th {\n",
              "        vertical-align: top;\n",
              "    }\n",
              "\n",
              "    .dataframe thead th {\n",
              "        text-align: right;\n",
              "    }\n",
              "</style>\n",
              "<table border=\"1\" class=\"dataframe\">\n",
              "  <thead>\n",
              "    <tr style=\"text-align: right;\">\n",
              "      <th></th>\n",
              "      <th>carat</th>\n",
              "      <th>cut</th>\n",
              "      <th>color</th>\n",
              "      <th>clarity</th>\n",
              "      <th>depth</th>\n",
              "      <th>table</th>\n",
              "      <th>price</th>\n",
              "      <th>x</th>\n",
              "      <th>y</th>\n",
              "      <th>z</th>\n",
              "    </tr>\n",
              "  </thead>\n",
              "  <tbody>\n",
              "    <tr>\n",
              "      <th>1</th>\n",
              "      <td>0.21</td>\n",
              "      <td>Premium</td>\n",
              "      <td>E</td>\n",
              "      <td>SI1</td>\n",
              "      <td>59.8</td>\n",
              "      <td>61.0</td>\n",
              "      <td>326</td>\n",
              "      <td>3.89</td>\n",
              "      <td>3.84</td>\n",
              "      <td>2.31</td>\n",
              "    </tr>\n",
              "    <tr>\n",
              "      <th>2</th>\n",
              "      <td>0.23</td>\n",
              "      <td>Good</td>\n",
              "      <td>E</td>\n",
              "      <td>VS1</td>\n",
              "      <td>56.9</td>\n",
              "      <td>65.0</td>\n",
              "      <td>327</td>\n",
              "      <td>4.05</td>\n",
              "      <td>4.07</td>\n",
              "      <td>2.31</td>\n",
              "    </tr>\n",
              "    <tr>\n",
              "      <th>3</th>\n",
              "      <td>0.29</td>\n",
              "      <td>Premium</td>\n",
              "      <td>I</td>\n",
              "      <td>VS2</td>\n",
              "      <td>62.4</td>\n",
              "      <td>58.0</td>\n",
              "      <td>334</td>\n",
              "      <td>4.20</td>\n",
              "      <td>4.23</td>\n",
              "      <td>2.63</td>\n",
              "    </tr>\n",
              "    <tr>\n",
              "      <th>4</th>\n",
              "      <td>0.31</td>\n",
              "      <td>Good</td>\n",
              "      <td>J</td>\n",
              "      <td>SI2</td>\n",
              "      <td>63.3</td>\n",
              "      <td>58.0</td>\n",
              "      <td>335</td>\n",
              "      <td>4.34</td>\n",
              "      <td>4.35</td>\n",
              "      <td>2.75</td>\n",
              "    </tr>\n",
              "    <tr>\n",
              "      <th>5</th>\n",
              "      <td>0.24</td>\n",
              "      <td>Very Good</td>\n",
              "      <td>J</td>\n",
              "      <td>VVS2</td>\n",
              "      <td>62.8</td>\n",
              "      <td>57.0</td>\n",
              "      <td>336</td>\n",
              "      <td>3.94</td>\n",
              "      <td>3.96</td>\n",
              "      <td>2.48</td>\n",
              "    </tr>\n",
              "  </tbody>\n",
              "</table>\n",
              "</div>"
            ],
            "text/plain": [
              "   carat        cut color clarity  depth  table  price     x     y     z\n",
              "1   0.21    Premium     E     SI1   59.8   61.0    326  3.89  3.84  2.31\n",
              "2   0.23       Good     E     VS1   56.9   65.0    327  4.05  4.07  2.31\n",
              "3   0.29    Premium     I     VS2   62.4   58.0    334  4.20  4.23  2.63\n",
              "4   0.31       Good     J     SI2   63.3   58.0    335  4.34  4.35  2.75\n",
              "5   0.24  Very Good     J    VVS2   62.8   57.0    336  3.94  3.96  2.48"
            ]
          },
          "execution_count": 418,
          "metadata": {},
          "output_type": "execute_result"
        }
      ],
      "source": [
        "final_df = df.drop(incorrect_depth.index, axis = 0)\n",
        "print(final_df.shape)\n",
        "final_df.head()"
      ]
    },
    {
      "cell_type": "code",
      "execution_count": null,
      "metadata": {
        "id": "Isi2K-g0bvAp",
        "outputId": "879ee8a8-a277-4e1e-9001-8e26606b8c64"
      },
      "outputs": [
        {
          "name": "stdout",
          "output_type": "stream",
          "text": [
            "(52182, 2)\n"
          ]
        },
        {
          "data": {
            "text/html": [
              "<div>\n",
              "<style scoped>\n",
              "    .dataframe tbody tr th:only-of-type {\n",
              "        vertical-align: middle;\n",
              "    }\n",
              "\n",
              "    .dataframe tbody tr th {\n",
              "        vertical-align: top;\n",
              "    }\n",
              "\n",
              "    .dataframe thead th {\n",
              "        text-align: right;\n",
              "    }\n",
              "</style>\n",
              "<table border=\"1\" class=\"dataframe\">\n",
              "  <thead>\n",
              "    <tr style=\"text-align: right;\">\n",
              "      <th></th>\n",
              "      <th>color</th>\n",
              "      <th>price</th>\n",
              "    </tr>\n",
              "  </thead>\n",
              "  <tbody>\n",
              "    <tr>\n",
              "      <th>1</th>\n",
              "      <td>E</td>\n",
              "      <td>326</td>\n",
              "    </tr>\n",
              "    <tr>\n",
              "      <th>2</th>\n",
              "      <td>E</td>\n",
              "      <td>327</td>\n",
              "    </tr>\n",
              "    <tr>\n",
              "      <th>3</th>\n",
              "      <td>I</td>\n",
              "      <td>334</td>\n",
              "    </tr>\n",
              "    <tr>\n",
              "      <th>4</th>\n",
              "      <td>J</td>\n",
              "      <td>335</td>\n",
              "    </tr>\n",
              "    <tr>\n",
              "      <th>5</th>\n",
              "      <td>J</td>\n",
              "      <td>336</td>\n",
              "    </tr>\n",
              "    <tr>\n",
              "      <th>6</th>\n",
              "      <td>I</td>\n",
              "      <td>336</td>\n",
              "    </tr>\n",
              "    <tr>\n",
              "      <th>7</th>\n",
              "      <td>H</td>\n",
              "      <td>337</td>\n",
              "    </tr>\n",
              "    <tr>\n",
              "      <th>8</th>\n",
              "      <td>E</td>\n",
              "      <td>337</td>\n",
              "    </tr>\n",
              "    <tr>\n",
              "      <th>9</th>\n",
              "      <td>H</td>\n",
              "      <td>338</td>\n",
              "    </tr>\n",
              "    <tr>\n",
              "      <th>10</th>\n",
              "      <td>J</td>\n",
              "      <td>339</td>\n",
              "    </tr>\n",
              "    <tr>\n",
              "      <th>11</th>\n",
              "      <td>J</td>\n",
              "      <td>340</td>\n",
              "    </tr>\n",
              "    <tr>\n",
              "      <th>12</th>\n",
              "      <td>F</td>\n",
              "      <td>342</td>\n",
              "    </tr>\n",
              "    <tr>\n",
              "      <th>13</th>\n",
              "      <td>J</td>\n",
              "      <td>344</td>\n",
              "    </tr>\n",
              "    <tr>\n",
              "      <th>14</th>\n",
              "      <td>E</td>\n",
              "      <td>345</td>\n",
              "    </tr>\n",
              "    <tr>\n",
              "      <th>15</th>\n",
              "      <td>E</td>\n",
              "      <td>345</td>\n",
              "    </tr>\n",
              "  </tbody>\n",
              "</table>\n",
              "</div>"
            ],
            "text/plain": [
              "   color  price\n",
              "1      E    326\n",
              "2      E    327\n",
              "3      I    334\n",
              "4      J    335\n",
              "5      J    336\n",
              "6      I    336\n",
              "7      H    337\n",
              "8      E    337\n",
              "9      H    338\n",
              "10     J    339\n",
              "11     J    340\n",
              "12     F    342\n",
              "13     J    344\n",
              "14     E    345\n",
              "15     E    345"
            ]
          },
          "execution_count": 419,
          "metadata": {},
          "output_type": "execute_result"
        }
      ],
      "source": [
        "color_price = final_df.drop(columns = ['x', 'y', 'z', 'carat','cut', 'clarity','depth', 'table'])\n",
        "print(color_price.shape)\n",
        "color_price.head(15)"
      ]
    },
    {
      "cell_type": "code",
      "execution_count": null,
      "metadata": {
        "id": "rj9vUQQIbvAp",
        "outputId": "49ee5e49-7110-4748-f07f-2a85c9856981"
      },
      "outputs": [
        {
          "data": {
            "image/png": "[encoded data removed]",
            "text/plain": [
              "<Figure size 720x576 with 1 Axes>"
            ]
          },
          "metadata": {
            "needs_background": "light"
          },
          "output_type": "display_data"
        }
      ],
      "source": [
        "# print(color_price_corr)\n",
        "ax = color_price.boxplot(by ='color', column =['price'], grid = False)"
      ]
    },
    {
      "cell_type": "code",
      "execution_count": null,
      "metadata": {
        "id": "xRoOGVDhbvAp"
      },
      "outputs": [],
      "source": [
        "mapping = {\"D\": 1, \"E\": 2, \"F\": 3, \"G\": 4, \"H\": 5, \"I\": 6, \"J\": 7}\n",
        "\n",
        "for k,v in mapping.items():\n",
        "    v = str(v)\n",
        "    color_price[\"color\"] = color_price[\"color\"].str.replace(k,v)\n",
        "\n",
        ""
      ]
    },
    {
      "cell_type": "code",
      "execution_count": null,
      "metadata": {
        "id": "xqFONF9rbvAp",
        "outputId": "493b9e87-bffd-4ca9-e86f-7b73f791956b"
      },
      "outputs": [
        {
          "data": {
            "text/html": [
              "<div>\n",
              "<style scoped>\n",
              "    .dataframe tbody tr th:only-of-type {\n",
              "        vertical-align: middle;\n",
              "    }\n",
              "\n",
              "    .dataframe tbody tr th {\n",
              "        vertical-align: top;\n",
              "    }\n",
              "\n",
              "    .dataframe thead th {\n",
              "        text-align: right;\n",
              "    }\n",
              "</style>\n",
              "<table border=\"1\" class=\"dataframe\">\n",
              "  <thead>\n",
              "    <tr style=\"text-align: right;\">\n",
              "      <th></th>\n",
              "      <th>color</th>\n",
              "      <th>price</th>\n",
              "    </tr>\n",
              "  </thead>\n",
              "  <tbody>\n",
              "    <tr>\n",
              "      <th>1</th>\n",
              "      <td>2</td>\n",
              "      <td>326</td>\n",
              "    </tr>\n",
              "    <tr>\n",
              "      <th>2</th>\n",
              "      <td>2</td>\n",
              "      <td>327</td>\n",
              "    </tr>\n",
              "    <tr>\n",
              "      <th>3</th>\n",
              "      <td>6</td>\n",
              "      <td>334</td>\n",
              "    </tr>\n",
              "    <tr>\n",
              "      <th>4</th>\n",
              "      <td>7</td>\n",
              "      <td>335</td>\n",
              "    </tr>\n",
              "    <tr>\n",
              "      <th>5</th>\n",
              "      <td>7</td>\n",
              "      <td>336</td>\n",
              "    </tr>\n",
              "    <tr>\n",
              "      <th>6</th>\n",
              "      <td>6</td>\n",
              "      <td>336</td>\n",
              "    </tr>\n",
              "    <tr>\n",
              "      <th>7</th>\n",
              "      <td>5</td>\n",
              "      <td>337</td>\n",
              "    </tr>\n",
              "    <tr>\n",
              "      <th>8</th>\n",
              "      <td>2</td>\n",
              "      <td>337</td>\n",
              "    </tr>\n",
              "    <tr>\n",
              "      <th>9</th>\n",
              "      <td>5</td>\n",
              "      <td>338</td>\n",
              "    </tr>\n",
              "    <tr>\n",
              "      <th>10</th>\n",
              "      <td>7</td>\n",
              "      <td>339</td>\n",
              "    </tr>\n",
              "  </tbody>\n",
              "</table>\n",
              "</div>"
            ],
            "text/plain": [
              "   color  price\n",
              "1      2    326\n",
              "2      2    327\n",
              "3      6    334\n",
              "4      7    335\n",
              "5      7    336\n",
              "6      6    336\n",
              "7      5    337\n",
              "8      2    337\n",
              "9      5    338\n",
              "10     7    339"
            ]
          },
          "execution_count": 422,
          "metadata": {},
          "output_type": "execute_result"
        }
      ],
      "source": [
        "color_price.head(10)"
      ]
    }
  ],
  "metadata": {
    "kernelspec": {
      "display_name": "Python 3",
      "language": "python",
      "name": "python3"
    },
    "language_info": {
      "codemirror_mode": {
        "name": "ipython",
        "version": 3
      },
      "file_extension": ".py",
      "mimetype": "text/x-python",
      "name": "python",
      "nbconvert_exporter": "python",
      "pygments_lexer": "ipython3",
      "version": "3.8.3"
    },
    "colab": {
      "provenance": [],
      "include_colab_link": true
    }
  },
  "nbformat": 4,
  "nbformat_minor": 0
}